{
  "nbformat": 4,
  "nbformat_minor": 0,
  "metadata": {
    "colab": {
      "provenance": [],
      "authorship_tag": "ABX9TyMwugZAc55t8qU0Flz0DX0A",
      "include_colab_link": true
    },
    "kernelspec": {
      "name": "python3",
      "display_name": "Python 3"
    },
    "language_info": {
      "name": "python"
    }
  },
  "cells": [
    {
      "cell_type": "markdown",
      "metadata": {
        "id": "view-in-github",
        "colab_type": "text"
      },
      "source": [
        "<a href=\"https://colab.research.google.com/github/Ad7amstein/Market-Price-Prediction/blob/main/Market_Price_Prediction_Notebook.ipynb\" target=\"_parent\"><img src=\"https://colab.research.google.com/assets/colab-badge.svg\" alt=\"Open In Colab\"/></a>"
      ]
    },
    {
      "cell_type": "markdown",
      "source": [
        "# Market Price Prediction\n",
        "A production-ready machine learning model capable of generating accurate forecasts for market quantity and prices for future months.\n",
        "\n",
        "**Author**: Adham Allam<br>\n",
        "<a href=\"https://www.linkedin.com/in/adham-allam/\">LinkedIn<a> <a href=\"https://www.kaggle.com/adham3lam\">Kaggle<a>\n",
        "\n",
        "<br>\n",
        "\n",
        "\n",
        "# Outline:\n",
        "- [Objective](#goal)\n",
        "- [Tools](#tools)"
      ],
      "metadata": {
        "id": "Pu2l6PUfOEuR"
      }
    },
    {
      "cell_type": "markdown",
      "source": [
        "## <a name=\"goal\">Objective<a>\n",
        "The primary objective of this project is to develop a robust time series machine learning model capable of\n",
        "accurately forecasting market trends based on historical data. By leveraging advanced algorithms, we aim\n",
        "to predict the quantity and prices of commodities for future months, empowering stakeholders to make\n",
        "proactive decisions regarding production, procurement, pricing strategies, and resource allocation."
      ],
      "metadata": {
        "id": "M065OcD8O-B7"
      }
    },
    {
      "cell_type": "markdown",
      "source": [
        "## <a name=\"tools\">Tools<a>\n",
        "In this project, we will make use of:\n",
        "- pandas, a Python library used for working with data sets\n",
        "- seaborn, a Python data visualization library based on matplotlib\n",
        "- Matplotlib, a popular library for plotting data\n",
        "- sklearn, a simple and efficient tools for predictive data analysis"
      ],
      "metadata": {
        "id": "OZEcMdY1PBTP"
      }
    },
    {
      "cell_type": "code",
      "execution_count": null,
      "metadata": {
        "id": "n3pW3afsNWky"
      },
      "outputs": [],
      "source": [
        "import panda as pd\n",
        "import seaborn as sns\n",
        "import matplotlib.pyplot as plt"
      ]
    }
  ]
}